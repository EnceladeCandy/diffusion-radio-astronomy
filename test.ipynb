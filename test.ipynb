{
 "cells": [
  {
   "cell_type": "code",
   "execution_count": 1,
   "metadata": {},
   "outputs": [
    {
     "data": {
      "text/plain": [
       "tensor([[-0.9963, -0.9962, -0.9945,  ..., -0.9911, -0.9901, -0.9915],\n",
       "        [-0.9957, -0.9941, -0.9962,  ..., -0.9909, -0.9893, -0.9899],\n",
       "        [-0.9957, -0.9979, -0.9947,  ..., -0.9887, -0.9875, -0.9863],\n",
       "        ...,\n",
       "        [-0.9906, -0.9912, -0.9908,  ..., -0.9936, -0.9966, -0.9942],\n",
       "        [-0.9896, -0.9930, -0.9894,  ..., -0.9943, -0.9952, -0.9965],\n",
       "        [-0.9921, -0.9931, -0.9890,  ..., -0.9960, -0.9961, -0.9975]])"
      ]
     },
     "execution_count": 1,
     "metadata": {},
     "output_type": "execute_result"
    }
   ],
   "source": [
    "import torch \n",
    "torch.load(\"ground_truth.pt\", map_location = \"cpu\")"
   ]
  },
  {
   "cell_type": "code",
   "execution_count": null,
   "metadata": {},
   "outputs": [],
   "source": []
  }
 ],
 "metadata": {
  "kernelspec": {
   "display_name": "gingakei",
   "language": "python",
   "name": "python3"
  },
  "language_info": {
   "codemirror_mode": {
    "name": "ipython",
    "version": 3
   },
   "file_extension": ".py",
   "mimetype": "text/x-python",
   "name": "python",
   "nbconvert_exporter": "python",
   "pygments_lexer": "ipython3",
   "version": "3.8.10"
  },
  "orig_nbformat": 4
 },
 "nbformat": 4,
 "nbformat_minor": 2
}
