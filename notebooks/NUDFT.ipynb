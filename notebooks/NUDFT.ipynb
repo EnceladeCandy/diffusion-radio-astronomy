{
 "cells": [
  {
   "cell_type": "code",
   "execution_count": 2,
   "metadata": {},
   "outputs": [],
   "source": [
    "import torch\n",
    "import numpy as np"
   ]
  },
  {
   "cell_type": "code",
   "execution_count": 3,
   "metadata": {},
   "outputs": [],
   "source": [
    "class UDFT():\n",
    "    \"\"\"\n",
    "    parameters:\n",
    "    ----------\n",
    "    - mask_coordinates : coordinates (in meters) of each apertures of the mask.\n",
    "    - precision : number of digits to consider when comparing uv coordinates of Fourier components.\n",
    "    - redundant: Use all triangles in the mask if True. Default is to use non-redundant triangles.\n",
    "\n",
    "    properties:\n",
    "    ----------\n",
    "    - nbap: number of apertures in the mask\n",
    "    - VAC: Virtual Aperture Coordinates (or just mask coordinates)\n",
    "    - BLM: Baseline Model. Operator that transform the aperture phase vector into visibility phases.\n",
    "    - UVC: uv coordinates (in meter) -> used to compute NDFTM\n",
    "\n",
    "    \"\"\"\n",
    "    def __init__(self, mask_coordinates, wavelength, redundant=False):\n",
    "        self.nbap = mask_coordinates.shape[0] \n",
    "        self.VAC = mask_coordinates\n",
    "        self.wavelength = wavelength\n",
    "\n",
    "        # Build BLM matrix (mapping from aperture to baselines)\n",
    "        N = self.nbap\n",
    "        mask = self.VAC\n",
    "        p = N * (N-1) // 2\n",
    "        UVC = np.zeros((p, 2))\n",
    "        BLM = np.zeros((p, N))\n",
    "        k = 0\n",
    "        for i in range(N):\n",
    "            for j in range(i+1, N):\n",
    "                UVC[k, 0] = mask[i, 0] - mask[j, 0]\n",
    "                UVC[k, 1] = mask[i, 1] - mask[j, 1]\n",
    "                BLM[k, i] += 1.0\n",
    "                BLM[k, j] -= 1.0\n",
    "                k += 1\n",
    "        self.BLM = BLM\n",
    "        self.UVC = UVC"
   ]
  },
  {
   "cell_type": "code",
   "execution_count": null,
   "metadata": {},
   "outputs": [],
   "source": []
  },
  {
   "cell_type": "code",
   "execution_count": 4,
   "metadata": {},
   "outputs": [],
   "source": [
    "antennas_coordinates = np.zeros(shape = (30, 2))"
   ]
  },
  {
   "cell_type": "code",
   "execution_count": null,
   "metadata": {},
   "outputs": [],
   "source": []
  }
 ],
 "metadata": {
  "kernelspec": {
   "display_name": "base",
   "language": "python",
   "name": "python3"
  },
  "language_info": {
   "codemirror_mode": {
    "name": "ipython",
    "version": 3
   },
   "file_extension": ".py",
   "mimetype": "text/x-python",
   "name": "python",
   "nbconvert_exporter": "python",
   "pygments_lexer": "ipython3",
   "version": "3.9.16"
  },
  "orig_nbformat": 4
 },
 "nbformat": 4,
 "nbformat_minor": 2
}
