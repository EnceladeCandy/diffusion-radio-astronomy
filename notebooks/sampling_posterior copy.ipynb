{
 "cells": [
  {
   "cell_type": "code",
   "execution_count": 7,
   "metadata": {},
   "outputs": [],
   "source": [
    "import torch \n",
    "import numpy as np\n",
    "import sys\n",
    "import matplotlib.pyplot as plt \n",
    "from torch.func import vmap, grad\n",
    "from tqdm import tqdm\n",
    "from torch.distributions import MultivariateNormal\n",
    "sys.path.append(\"..\\\\\")\n",
    "plt.style.use(\"dark_background\")\n",
    "device = \"cuda\" if torch.cuda.is_available() else \"cpu\"\n",
    "from score_models import ScoreModel, NCSNpp\n",
    "import json\n",
    "file = open(\"../ncsnpp_probes_g_64_230604024652/model_hparams.json\")\n",
    "model_hparams = json.load(file)\n",
    "sigma_min, sigma_max = model_hparams[\"sigma_min\"], model_hparams[\"sigma_max\"]"
   ]
  },
  {
   "cell_type": "code",
   "execution_count": 8,
   "metadata": {},
   "outputs": [],
   "source": [
    "def preprocess_probes_g_channel(img, inv_link = False):  # channel 0\n",
    "    img = torch.clamp(img, 0, 1.48)\n",
    "    \n",
    "    if inv_link:\n",
    "        img = 2 * img / 1.48 - 1.\n",
    "    return img\n",
    "\n",
    "def link_function(x):\n",
    "    return (x + 1)/2\n",
    "\n"
   ]
  },
  {
   "cell_type": "code",
   "execution_count": 3,
   "metadata": {},
   "outputs": [
    {
     "name": "stderr",
     "output_type": "stream",
     "text": [
      "100%|██████████| 500/500 [00:27<00:00, 18.42it/s]\n"
     ]
    }
   ],
   "source": [
    "score_model = ScoreModel(checkpoints_directory=\"../ncsnpp_probes_g_64_230604024652\")\n",
    "img = score_model.sample(1, shape = (1, 64, 64), steps = 500)"
   ]
  },
  {
   "cell_type": "markdown",
   "metadata": {},
   "source": [
    "### Implementing for the DFT matrix"
   ]
  },
  {
   "cell_type": "code",
   "execution_count": 4,
   "metadata": {},
   "outputs": [],
   "source": [
    "def ft(x): \n",
    "    return torch.fft.fft2(x, norm = \"ortho\")\n",
    "\n",
    "def ift(x): \n",
    "    return torch.fft.ifft2(x, norm = \"ortho\")"
   ]
  },
  {
   "cell_type": "code",
   "execution_count": 15,
   "metadata": {},
   "outputs": [
    {
     "name": "stdout",
     "output_type": "stream",
     "text": [
      "torch.Size([8192])\n"
     ]
    },
    {
     "data": {
      "text/plain": [
       "<matplotlib.image.AxesImage at 0x212bb83c130>"
      ]
     },
     "execution_count": 15,
     "metadata": {},
     "output_type": "execute_result"
    },
    {
     "data": {
      "image/png": "[encoded data removed]",
      "text/plain": [
       "<Figure size 800x400 with 3 Axes>"
      ]
     },
     "metadata": {},
     "output_type": "display_data"
    }
   ],
   "source": [
    "x = img[0,0, ...]\n",
    "img_size = x.shape[-1]\n",
    "sigma_likelihood = 1e-1\n",
    "dist_likelihood = MultivariateNormal(loc = torch.zeros(2 * img_size**2, device = x.device), covariance_matrix=sigma_likelihood ** 2 *torch.eye(2 * img_size**2, device = x.device))\n",
    "eta = dist_likelihood.sample([])\n",
    "\n",
    "ft_x = ft(x).flatten()\n",
    "ft_x = torch.cat([ft_x.real, ft_x.imag])\n",
    "y = ft_x + eta\n",
    "#y = preprocess_probes_g_channel(y, inv_link = False)\n",
    "y_dim = len(y)\n",
    "\n",
    "print(y.shape)\n",
    "# Checking if I do something wrong\n",
    "fig, axs = plt.subplots(1, 3, figsize = (8, 4))\n",
    "for i in range(len(axs)): \n",
    "    axs[i].axis(\"off\")\n",
    "\n",
    "axs[0].imshow(x.reshape(-1, img_size).cpu(), cmap = \"hot\")\n",
    "axs[1].imshow(y.reshape(-1, img_size).cpu(), cmap = \"hot\")\n",
    "\n",
    "y_rep = y[:img_size**2] + 1j * y[img_size**2:]\n",
    "axs[2].imshow(ift(y_rep.reshape(img_size, img_size)).real.cpu(), cmap = \"hot\")"
   ]
  },
  {
   "cell_type": "code",
   "execution_count": 6,
   "metadata": {},
   "outputs": [
    {
     "data": {
      "text/plain": [
       "torch.Size([8192])"
      ]
     },
     "execution_count": 6,
     "metadata": {},
     "output_type": "execute_result"
    }
   ],
   "source": [
    "y.shape"
   ]
  },
  {
   "cell_type": "code",
   "execution_count": 16,
   "metadata": {},
   "outputs": [
    {
     "name": "stdout",
     "output_type": "stream",
     "text": [
      "tensor(0.0007, device='cuda:0')\n",
      "tensor([[ 0.0004, -0.0003, -0.0013,  ..., -0.0009,  0.0006, -0.0017],\n",
      "        [ 0.0039, -0.0014,  0.0011,  ...,  0.0001,  0.0011, -0.0027]],\n",
      "       device='cuda:0', grad_fn=<AddBackward0>)\n"
     ]
    }
   ],
   "source": [
    "def sigma(t): \n",
    "    return sigma_min * (sigma_max/sigma_min) ** t\n",
    "\n",
    "def logprob_likelihood(x, cov_mat): \n",
    "    dist = torch.distributions.MultivariateNormal(loc = torch.zeros(y_dim, device = x.device), covariance_matrix = cov_mat, validate_args=False)\n",
    "    return dist.log_prob(x)\n",
    "\n",
    "\n",
    "def model(x):\n",
    "    f = link_function(x)\n",
    "    f = ft(x.reshape(img_size, img_size)).flatten()\n",
    "    f = torch.cat([f.real, f.imag])\n",
    "    return f\n",
    "\n",
    "def score_likelihood(x, t): \n",
    "    return vmap(grad(lambda x, t: logprob_likelihood(y- model(x),  (sigma_likelihood ** 2 + sigma(t)**2) * torch.eye(y_dim, device = x.device))))(x, t)\n",
    "\n",
    "#torch.manual_seed(0)\n",
    "def score_posterior(x, t): \n",
    "    return score_model.score(t, x.reshape(-1, 1, img_size, img_size)).flatten(start_dim = 1) + score_likelihood(x, t)\n",
    "\n",
    "x = torch.randn([2, img_size ** 2]).to(device) \n",
    "t = torch.ones([2]).to(device)\n",
    "\n",
    "print((torch.sum(score_likelihood(x, t)**2))**0.5)\n",
    "print(score_posterior(x, t))\n",
    "#score_model.score(t, x.reshape(-1, 1, img_size, img_size)).shape "
   ]
  },
  {
   "cell_type": "code",
   "execution_count": 17,
   "metadata": {},
   "outputs": [
    {
     "name": "stderr",
     "output_type": "stream",
     "text": [
      "100%|██████████| 499/499 [02:01<00:00,  4.12it/s]\n"
     ]
    }
   ],
   "source": [
    "\n",
    "def g(t): \n",
    "    return sigma(t) * np.sqrt(2 * (np.log(sigma_max) - np.log(sigma_min)))\n",
    "\n",
    "\"\"\"\n",
    "def pc_sampler(num_samples, num_pred_steps, num_corr_steps, score_function, snr = 1e-2, img_size = 28): \n",
    "    t = torch.ones(size = (num_samples, 1)).to(device)\n",
    "    x = torch.randn([num_samples, img_size ** 2]).to(device)\n",
    "    dt = -1/num_pred_steps\n",
    "    with torch.no_grad(): \n",
    "        for _ in tqdm(range(num_pred_steps-1)): \n",
    "            # Corrector step: (Only if we are not at 0 temperature )\n",
    "            gradient = score_function(x, t)\n",
    "            for _ in range(num_corr_steps): \n",
    "                z = torch.randn_like(x)\n",
    "                grad_norm = torch.mean(torch.norm(gradient, dim = -1)) # mean of the norm of the score over the batch \n",
    "                noise_norm = torch.mean(torch.norm(z, dim = -1))\n",
    "                epsilon =  2 * (snr * noise_norm / grad_norm) ** 2\n",
    "                x = x + epsilon * gradient + (2 * epsilon) ** 0.5 * z * dt  \n",
    "\n",
    "        \n",
    "            # Predictor step: \n",
    "            z = torch.randn_like(x)\n",
    "            x_mean  = x + (-0.5 * beta(t) * x - beta(t) * gradient) * dt \n",
    "            noise = (beta(t) * -dt) ** 0.5 * z \n",
    "            x = x_mean + noise\n",
    "            t += dt\n",
    "    return x_mean\n",
    "\"\"\"\n",
    "def euler_sampler(num_samples, num_steps, score_function, img_size = 28): \n",
    "    t = torch.ones(size = (num_samples, 1)).to(device)\n",
    "    x = sigma_max * torch.randn([num_samples, img_size ** 2]).to(device)\n",
    "    dt = -1/num_steps\n",
    "    with torch.no_grad(): \n",
    "        for _ in tqdm(range(num_steps - 1)): \n",
    "            z = torch.randn_like(x).to(device)\n",
    "            gradient = score_function(x, t)\n",
    "            drift = 0\n",
    "            diffusion = g(t)\n",
    "            x_mean = x - diffusion**2 * gradient * dt  \n",
    "            noise = diffusion * (-dt) ** 0.5 * z\n",
    "            x = x_mean + noise\n",
    "            t += dt\n",
    "    # DONT FORGET TO APPLY THE LINK FUNCTION\n",
    "    return x_mean\n",
    "\n",
    "\n",
    "#pc_samples = pc_sampler(num_samples = 100, num_pred_steps = 500, num_corr_steps = 20, snr = 1e-2, score_function = score_posterior, img_size = 28)\n",
    "euler_samples = euler_sampler(num_samples = 1, num_steps = 500, score_function = score_posterior, img_size = img_size)\n"
   ]
  },
  {
   "cell_type": "code",
   "execution_count": 18,
   "metadata": {},
   "outputs": [
    {
     "data": {
      "image/png": "[encoded data removed]",
      "text/plain": [
       "<Figure size 640x480 with 2 Axes>"
      ]
     },
     "metadata": {},
     "output_type": "display_data"
    }
   ],
   "source": [
    "n_images = len(euler_samples)\n",
    "\n",
    "if n_images != 1:\n",
    "    fig, axs = plt.subplots(1, n_images, figsize = (8, 4))\n",
    "\n",
    "    for i in range(n_images): \n",
    "        axs[i].imshow(x[i].cpu().reshape(img_size, img_size), cmap = \"hot\")\n",
    "        axs[i].axis(\"off\")\n",
    "else: \n",
    "    plt.imshow(link_function(euler_samples).cpu().reshape(img_size, img_size), cmap = \"hot\")\n",
    "    plt.axis(\"off\")\n",
    "    plt.colorbar(fraction = 0.046)"
   ]
  },
  {
   "cell_type": "code",
   "execution_count": 89,
   "metadata": {},
   "outputs": [
    {
     "data": {
      "text/plain": [
       "tensor(-0.2728, device='cuda:0')"
      ]
     },
     "execution_count": 89,
     "metadata": {},
     "output_type": "execute_result"
    }
   ],
   "source": [
    "euler_samples.max()"
   ]
  }
 ],
 "metadata": {
  "kernelspec": {
   "display_name": "base",
   "language": "python",
   "name": "python3"
  },
  "language_info": {
   "codemirror_mode": {
    "name": "ipython",
    "version": 3
   },
   "file_extension": ".py",
   "mimetype": "text/x-python",
   "name": "python",
   "nbconvert_exporter": "python",
   "pygments_lexer": "ipython3",
   "version": "3.9.16"
  },
  "orig_nbformat": 4
 },
 "nbformat": 4,
 "nbformat_minor": 2
}
