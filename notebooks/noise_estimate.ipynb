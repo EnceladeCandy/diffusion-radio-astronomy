{
 "cells": [
  {
   "cell_type": "code",
   "execution_count": 2,
   "metadata": {},
   "outputs": [],
   "source": [
    "import numpy as np \n",
    "import torch \n",
    "import matplotlib.pyplot as plt \n",
    "\n",
    "from mpol import coordinates\n",
    "from mpol.gridding import DirtyImager"
   ]
  },
  {
   "cell_type": "code",
   "execution_count": 3,
   "metadata": {},
   "outputs": [],
   "source": [
    "# Observation\n",
    "data = np.load(\"../../HTLup_continuum_full.npz\")\n",
    "u = data[\"uu\"] # klambda units\n",
    "v = data[\"vv\"]\n",
    "vis = data[\"data\"]\n",
    "#wavelength = data[\"wavelength\"]\n",
    "weight = data[\"weight\"]\n",
    "\n",
    "# Loading the psf and the dirty image\n",
    "pixel_scale = 0.0015 # arcsec\n",
    "npix = 256 # Number of pixels in the grid\n",
    "coords = coordinates.GridCoords(cell_size=pixel_scale, npix=npix)"
   ]
  },
  {
   "cell_type": "code",
   "execution_count": null,
   "metadata": {},
   "outputs": [],
   "source": [
    "from tqdm import tqdm\n",
    "from mpol import coordinates\n",
    "from mpol.gridding import DirtyImager\n",
    "import numpy as np\n",
    "\n",
    "pixel_scale = 0.0015 # arcsec\n",
    "npix = 256 # Number of pixels in the grid\n",
    "coords = coordinates.GridCoords(cell_size=pixel_scale, npix=npix)\n",
    "img_size = 256 # Number of pixels in the reconstructed image\n",
    "\n",
    "\n",
    "fname = \"../../HTLup_continuum.npz\"\n",
    "data = np.load(fname)\n",
    "vis = data[\"data\"]\n",
    "weight = data[\"weight\"]\n",
    "u = data[\"u\"]\n",
    "v = data[\"v\"] # Normalized weights\n",
    "\n",
    "noisy_vis_gridded = np.empty(shape = (1000, npix, npix), dtype = np.complex128)\n",
    "N_vis = len(vis)\n",
    "for i in tqdm(range(1000)):\n",
    "\n",
    "    sigma = weight ** -0.5\n",
    "    eta_re = np.random.normal(loc = np.zeros(N_vis), scale = sigma)\n",
    "    eta_im = np.random.normal(loc = np.zeros(N_vis), scale = sigma)\n",
    "    imager = DirtyImager(\n",
    "    coords=coords,\n",
    "    uu=u,\n",
    "    vv=v,\n",
    "    weight=weight,\n",
    "    data_re=eta_re,\n",
    "    data_im=eta_im\n",
    "    )\n",
    "    robust = -0.4\n",
    "    imager._grid_visibilities(weighting = \"briggs\", robust = robust, taper_function = None)\n",
    "    vis_gridded = imager.vis_gridded[0] * imager.C\n",
    "    noisy_vis_gridded[i] = vis_gridded\n",
    "\n",
    "np.save(\"noise_robust-04.npy\", noisy_vis_gridded.std(axis = 0))"
   ]
  },
  {
   "cell_type": "code",
   "execution_count": null,
   "metadata": {},
   "outputs": [],
   "source": []
  }
 ],
 "metadata": {
  "kernelspec": {
   "display_name": "base",
   "language": "python",
   "name": "python3"
  },
  "language_info": {
   "codemirror_mode": {
    "name": "ipython",
    "version": 3
   },
   "file_extension": ".py",
   "mimetype": "text/x-python",
   "name": "python",
   "nbconvert_exporter": "python",
   "pygments_lexer": "ipython3",
   "version": "3.9.17"
  },
  "orig_nbformat": 4
 },
 "nbformat": 4,
 "nbformat_minor": 2
}
