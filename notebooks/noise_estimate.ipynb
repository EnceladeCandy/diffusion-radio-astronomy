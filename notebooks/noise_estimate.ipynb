{
 "cells": [
  {
   "cell_type": "code",
   "execution_count": 1,
   "metadata": {},
   "outputs": [],
   "source": [
    "import numpy as np \n",
    "import torch \n",
    "import matplotlib.pyplot as plt \n",
    "\n",
    "from mpol import coordinates\n",
    "from mpol.gridding import DirtyImager"
   ]
  },
  {
   "cell_type": "code",
   "execution_count": 2,
   "metadata": {},
   "outputs": [],
   "source": [
    "# Observation\n",
    "data = np.load(\"../../HTLup_continuum2.npz\")\n",
    "u = data[\"uu\"] # klambda units\n",
    "v = data[\"vv\"]\n",
    "vis = data[\"data\"]\n",
    "#wavelength = data[\"wavelength\"]\n",
    "weight = data[\"weight\"]\n",
    "\n",
    "# Loading the psf and the dirty image\n",
    "pixel_scale = 0.0015 # arcsec\n",
    "npix = 256 # Number of pixels in the grid\n",
    "coords = coordinates.GridCoords(cell_size=pixel_scale, npix=npix)"
   ]
  },
  {
   "cell_type": "code",
   "execution_count": null,
   "metadata": {},
   "outputs": [],
   "source": []
  },
  {
   "cell_type": "code",
   "execution_count": null,
   "metadata": {},
   "outputs": [],
   "source": []
  }
 ],
 "metadata": {
  "kernelspec": {
   "display_name": "base",
   "language": "python",
   "name": "python3"
  },
  "language_info": {
   "codemirror_mode": {
    "name": "ipython",
    "version": 3
   },
   "file_extension": ".py",
   "mimetype": "text/x-python",
   "name": "python",
   "nbconvert_exporter": "python",
   "pygments_lexer": "ipython3",
   "version": "3.9.17"
  },
  "orig_nbformat": 4
 },
 "nbformat": 4,
 "nbformat_minor": 2
}
